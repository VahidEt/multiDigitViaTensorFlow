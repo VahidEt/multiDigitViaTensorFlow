{
 "cells": [
  {
   "cell_type": "markdown",
   "metadata": {
    "colab_type": "text",
    "id": "4embtkV0pNxM"
   },
   "source": [
    "Multi-Digit traning on MNSIT dataset\n",
    "=============\n",
    "\n",
    "we build a convolutional neural network to train a model to read the number up to 5 digit.\n"
   ]
  },
  {
   "cell_type": "code",
   "execution_count": 1,
   "metadata": {
    "cellView": "both",
    "colab": {
     "autoexec": {
      "startup": false,
      "wait_interval": 0
     }
    },
    "colab_type": "code",
    "collapsed": true,
    "id": "tm2CQN_Cpwj0"
   },
   "outputs": [],
   "source": [
    "# These are all the modules we'll be using later. Make sure you can import them\n",
    "# before proceeding further.\n",
    "from __future__ import print_function\n",
    "import numpy as np\n",
    "import tensorflow as tf\n",
    "from six.moves import cPickle as pickle\n",
    "from six.moves import range\n",
    "import matplotlib.pyplot as plt\n",
    "import numpy as np\n"
   ]
  },
  {
   "cell_type": "code",
   "execution_count": 2,
   "metadata": {
    "cellView": "both",
    "colab": {
     "autoexec": {
      "startup": false,
      "wait_interval": 0
     },
     "output_extras": [
      {
       "item_id": 1
      }
     ]
    },
    "colab_type": "code",
    "collapsed": false,
    "executionInfo": {
     "elapsed": 11948,
     "status": "ok",
     "timestamp": 1446658914837,
     "user": {
      "color": "",
      "displayName": "",
      "isAnonymous": false,
      "isMe": true,
      "permissionId": "",
      "photoUrl": "",
      "sessionId": "0",
      "userId": ""
     },
     "user_tz": 480
    },
    "id": "y3-cj1bpmuxc",
    "outputId": "016b1a51-0290-4b08-efdb-8c95ffc3cd01"
   },
   "outputs": [
    {
     "name": "stdout",
     "output_type": "stream",
     "text": [
      "Training set (50000, 28, 140) (50000, 6)\n",
      "Validation set (10000, 28, 140) (10000, 6)\n",
      "Test set (10000, 28, 140) (10000, 6)\n"
     ]
    }
   ],
   "source": [
    "pickle_file = 'MNIST5digit.pickle'\n",
    "\n",
    "\n",
    "with open(pickle_file, 'rb') as f:\n",
    "  save = pickle.load(f)\n",
    "  train_dataset = save['train_dataset']\n",
    "  train_labels = save['train_labels']\n",
    "  valid_dataset = save['valid_dataset']\n",
    "  valid_labels = save['valid_labels']\n",
    "  test_dataset = save['test_dataset']\n",
    "  test_labels = save['test_labels']\n",
    "  del save  # hint to help gc free up memory\n",
    "  print('Training set', train_dataset.shape, train_labels.shape)\n",
    "  print('Validation set', valid_dataset.shape, valid_labels.shape)\n",
    "  print('Test set', test_dataset.shape, test_labels.shape)"
   ]
  },
  {
   "cell_type": "code",
   "execution_count": 3,
   "metadata": {
    "cellView": "both",
    "colab": {
     "autoexec": {
      "startup": false,
      "wait_interval": 0
     },
     "output_extras": [
      {
       "item_id": 1
      }
     ]
    },
    "colab_type": "code",
    "collapsed": false,
    "executionInfo": {
     "elapsed": 11952,
     "status": "ok",
     "timestamp": 1446658914857,
     "user": {
      "color": "",
      "displayName": "",
      "isAnonymous": false,
      "isMe": true,
      "permissionId": "",
      "photoUrl": "",
      "sessionId": "0",
      "userId": ""
     },
     "user_tz": 480
    },
    "id": "IRSyYiIIGIzS",
    "outputId": "650a208c-8359-4852-f4f5-8bf10e80ef6c"
   },
   "outputs": [
    {
     "name": "stdout",
     "output_type": "stream",
     "text": [
      "Training set (50000, 28, 140, 1) (50000, 6)\n",
      "Validation set (10000, 28, 140, 1) (10000, 6)\n",
      "Test set (10000, 28, 140, 1) (10000, 6)\n"
     ]
    }
   ],
   "source": [
    "image_sizeY = train_dataset.shape[1]\n",
    "image_sizeX = train_dataset.shape[2]\n",
    "num_labels = 11 # use 0-9 for 0-9 digits and 10 for blanck\n",
    "num_channels = 1 # grayscale\n",
    "\n",
    "def reformat(dataset):\n",
    "  dataset = dataset.reshape(\n",
    "    (-1, image_sizeY, image_sizeX, num_channels)).astype(np.float32)\n",
    "  return dataset\n",
    "train_dataset  = reformat(train_dataset)\n",
    "valid_dataset  = reformat(valid_dataset[:10000])\n",
    "test_dataset = reformat(test_dataset[:10000])\n",
    "valid_labels = valid_labels[:10000]\n",
    "test_labels = test_labels[:10000]\n",
    "print('Training set', train_dataset.shape, train_labels.shape)\n",
    "print('Validation set', valid_dataset.shape, valid_labels.shape)\n",
    "print('Test set', test_dataset.shape, test_labels.shape)"
   ]
  },
  {
   "cell_type": "code",
   "execution_count": 4,
   "metadata": {
    "cellView": "both",
    "colab": {
     "autoexec": {
      "startup": false,
      "wait_interval": 0
     }
    },
    "colab_type": "code",
    "collapsed": false,
    "id": "AgQDIREv02p1"
   },
   "outputs": [],
   "source": [
    "def accuracy(predictions, labels):\n",
    "\n",
    "  return (100.0 * np.sum(np.argmax(predictions, 2).T == labels) / predictions.shape[1] / predictions.shape[0])"
   ]
  },
  {
   "cell_type": "code",
   "execution_count": 5,
   "metadata": {
    "collapsed": false
   },
   "outputs": [],
   "source": [
    "batch_size = 512\n",
    "patch_size = 4\n",
    "depth = 32\n",
    "num_hidden = 128\n",
    "graph = tf.Graph()\n",
    "\n",
    "with graph.as_default():\n",
    "\n",
    "  # Input data.\n",
    "  tf_train_dataset = tf.placeholder(tf.float32, shape=(batch_size, image_sizeY, image_sizeX, num_channels))\n",
    "  tf_train_labels = tf.placeholder(tf.int32, shape=(batch_size, 6))\n",
    "  tf_valid_dataset = tf.constant(valid_dataset)\n",
    "  tf_test_dataset = tf.constant(test_dataset)\n",
    "  #keep_prob = tf.placeholder(\"float\")\n",
    "\n",
    "  # Variables\n",
    "  w1 = tf.Variable(tf.truncated_normal([patch_size, patch_size, num_channels, depth], stddev=0.1))\n",
    "  b1 = tf.Variable(tf.zeros([depth]))\n",
    "  w2 = tf.Variable(tf.truncated_normal([patch_size, patch_size, depth * 1, depth * 2], stddev=0.1))\n",
    "  b2 = tf.Variable(tf.constant(1.0, shape=[depth * 2]))\n",
    "  w3 = tf.Variable(tf.truncated_normal([patch_size, patch_size, depth * 2, depth * 4], stddev=0.1))\n",
    "  b3 = tf.Variable(tf.constant(1.0, shape=[depth * 4]))\n",
    "  w4 = tf.Variable(tf.truncated_normal([patch_size, patch_size, depth * 4, depth * 8], stddev=0.1))\n",
    "  b4 = tf.Variable(tf.constant(1.0, shape=[depth * 8]))\n",
    "  #w5 = tf.Variable(tf.truncated_normal([patch_size, patch_size, depth * 8, depth * 16], stddev=0.1))\n",
    "  #b5 = tf.Variable(tf.constant(1.0, shape=[depth * 16]))\n",
    "  \n",
    "  #full-connected layers - 2 layers - \n",
    "  #w6 = tf.Variable(tf.truncated_normal([5 * depth * 16, num_hidden], stddev=0.1))\n",
    "  w6 = tf.Variable(tf.truncated_normal([2 * 9 * depth * 8, num_hidden], stddev=0.1))\n",
    "  b6 = tf.Variable(tf.constant(1.0, shape=[num_hidden]))\n",
    "\n",
    "\n",
    "  wC1 = tf.Variable(tf.truncated_normal([num_hidden, num_labels], stddev=0.1))\n",
    "  bC1 = tf.Variable(tf.constant(1.0, shape=[num_labels]))\n",
    "  wC2 = tf.Variable(tf.truncated_normal([num_hidden, num_labels], stddev=0.1))\n",
    "  bC2 = tf.Variable(tf.constant(1.0, shape=[num_labels]))\n",
    "  wC3 = tf.Variable(tf.truncated_normal([num_hidden, num_labels], stddev=0.1))\n",
    "  bC3 = tf.Variable(tf.constant(1.0, shape=[num_labels]))\n",
    "  wC4 = tf.Variable(tf.truncated_normal([num_hidden, num_labels], stddev=0.1))\n",
    "  bC4 = tf.Variable(tf.constant(1.0, shape=[num_labels]))\n",
    "  wC5 = tf.Variable(tf.truncated_normal([num_hidden, num_labels], stddev=0.1))\n",
    "  bC5 = tf.Variable(tf.constant(1.0, shape=[num_labels]))\n",
    "  wC6 = tf.Variable(tf.truncated_normal([num_hidden, num_labels], stddev=0.1))\n",
    "  bC6 = tf.Variable(tf.constant(1.0, shape=[num_labels]))\n",
    "  \n",
    "  # Model.\n",
    "  def model(data):\n",
    "    conv = tf.nn.conv2d(data, w1, [1, 1, 1, 1], padding='SAME')\n",
    "    hidden = tf.nn.relu(conv + b1)\n",
    "    maxOut = tf.nn.max_pool(hidden, [1, 2, 2, 1], [1, 2, 2, 1], 'SAME')\n",
    "    conv = tf.nn.conv2d(maxOut, w2, [1, 1, 1, 1], padding='SAME')\n",
    "    hidden = tf.nn.relu(conv + b2)\n",
    "    maxOut = tf.nn.max_pool(hidden, [1, 2, 2, 1], [1, 2, 2, 1], 'SAME')\n",
    "    conv = tf.nn.conv2d(maxOut, w3, [1, 1, 1, 1], padding='SAME')\n",
    "    hidden = tf.nn.relu(conv + b3)\n",
    "    maxOut = tf.nn.max_pool(hidden, [1, 2, 2, 1], [1, 2, 2, 1], 'SAME')\n",
    "    conv = tf.nn.conv2d(maxOut, w4, [1, 1, 1, 1], padding='SAME')\n",
    "    hidden = tf.nn.relu(conv + b4)\n",
    "    maxOut = tf.nn.max_pool(hidden, [1, 2, 2, 1], [1, 2, 2, 1], 'SAME')\n",
    "    #conv = tf.nn.conv2d(maxOut, w5, [1, 1, 1, 1], padding='SAME')\n",
    "    #hidden = tf.nn.relu(conv + b5)\n",
    "    #maxOut = tf.nn.max_pool(hidden, [1, 2, 2, 1], [1, 2, 2, 1], 'SAME')  \n",
    "    \n",
    "    #full-connected layers - 2 layers -     \n",
    "    shape = maxOut.get_shape().as_list()\n",
    "    reshape = tf.reshape(maxOut, [shape[0], shape[1] * shape[2] * shape[3]])\n",
    "    fc = tf.nn.relu(tf.matmul(reshape, w6) + b6)\n",
    "    logitsC1 = tf.matmul(tf.nn.dropout(fc, 1.0), wC1) + bC1\n",
    "    logitsC2 = tf.matmul(tf.nn.dropout(fc, 1.0), wC2) + bC2\n",
    "    logitsC3 = tf.matmul(tf.nn.dropout(fc, 1.0), wC3) + bC3\n",
    "    logitsC4 = tf.matmul(tf.nn.dropout(fc, 1.0), wC4) + bC4\n",
    "    logitsC5 = tf.matmul(tf.nn.dropout(fc, 1.0), wC5) + bC5\n",
    "    logitsC6 = tf.matmul(tf.nn.dropout(fc, 1.0), wC6) + bC6\n",
    "    logits = tf.pack([logitsC1, logitsC2, logitsC3, logitsC4, logitsC5, logitsC6])\n",
    "    return logits\n",
    "  \n",
    "  # Training computation.\n",
    "  logits = model(tf_train_dataset)\n",
    "  loss = tf.reduce_mean(tf.nn.sparse_softmax_cross_entropy_with_logits(logits[0], tf_train_labels[:,0])) +\\\n",
    "tf.reduce_mean(tf.nn.sparse_softmax_cross_entropy_with_logits(logits[1], tf_train_labels[:,1])) +\\\n",
    "tf.reduce_mean(tf.nn.sparse_softmax_cross_entropy_with_logits(logits[2], tf_train_labels[:,2])) +\\\n",
    "tf.reduce_mean(tf.nn.sparse_softmax_cross_entropy_with_logits(logits[3], tf_train_labels[:,3])) +\\\n",
    "tf.reduce_mean(tf.nn.sparse_softmax_cross_entropy_with_logits(logits[4], tf_train_labels[:,4])) +\\\n",
    "tf.reduce_mean(tf.nn.sparse_softmax_cross_entropy_with_logits(logits[5], tf_train_labels[:,5]))\n",
    "    \n",
    "  # Optimizer.\n",
    "  global_step = tf.Variable(0)  # count the number of steps taken.\n",
    "  #learning_rate = tf.train.exponential_decay(0.003, global_step, 1000, 0.7)\n",
    "  learning_rate = tf.train.exponential_decay(0.05, global_step, 10000, 0.95)\n",
    "  #optimizer = tf.train.GradientDescentOptimizer(learning_rate).minimize(loss)\n",
    "  #optimizer = tf.train.AdamOptimizer(learning_rate).minimize(loss, global_step=global_step)\n",
    "  optimizer = tf.train.AdagradOptimizer(learning_rate).minimize(loss, global_step=global_step)\n",
    "  \n",
    "  # Predictions for the training, validation, and test data.\n",
    "  train_prediction = tf.nn.softmax(logits)\n",
    "  valid_prediction = tf.nn.softmax(model(tf_valid_dataset))\n",
    "  test_prediction = tf.nn.softmax(model(tf_test_dataset))\n",
    "  saver = tf.train.Saver()"
   ]
  },
  {
   "cell_type": "code",
   "execution_count": 6,
   "metadata": {
    "collapsed": false,
    "scrolled": true
   },
   "outputs": [
    {
     "name": "stdout",
     "output_type": "stream",
     "text": [
      "Initialized\n",
      "Minibatch loss at step 0: 275.974548\n",
      "Minibatch accuracy: 6.7%\n",
      "Validation accuracy: 30.8%\n",
      "Minibatch loss at step 500: 6.672463\n",
      "Minibatch accuracy: 59.1%\n",
      "Validation accuracy: 58.8%\n",
      "Minibatch loss at step 1000: 6.266432\n",
      "Minibatch accuracy: 59.9%\n",
      "Validation accuracy: 61.6%\n",
      "Minibatch loss at step 1500: 4.574918\n",
      "Minibatch accuracy: 69.6%\n",
      "Validation accuracy: 68.6%\n",
      "Minibatch loss at step 2000: 4.165515\n",
      "Minibatch accuracy: 71.8%\n",
      "Validation accuracy: 70.8%\n",
      "Minibatch loss at step 2500: 3.395039\n",
      "Minibatch accuracy: 78.0%\n",
      "Validation accuracy: 77.1%\n",
      "Minibatch loss at step 3000: 1.728422\n",
      "Minibatch accuracy: 89.9%\n",
      "Validation accuracy: 88.9%\n",
      "Minibatch loss at step 3500: 1.563228\n",
      "Minibatch accuracy: 91.9%\n",
      "Validation accuracy: 92.3%\n",
      "Minibatch loss at step 4000: 1.051943\n",
      "Minibatch accuracy: 95.0%\n",
      "Validation accuracy: 94.7%\n",
      "Minibatch loss at step 4500: 0.821262\n",
      "Minibatch accuracy: 95.9%\n",
      "Validation accuracy: 95.5%\n",
      "Minibatch loss at step 5000: 0.803053\n",
      "Minibatch accuracy: 96.2%\n",
      "Validation accuracy: 96.0%\n",
      "Minibatch loss at step 5500: 0.755337\n",
      "Minibatch accuracy: 96.9%\n",
      "Validation accuracy: 96.4%\n",
      "Minibatch loss at step 6000: 0.631658\n",
      "Minibatch accuracy: 97.2%\n",
      "Validation accuracy: 96.8%\n",
      "Minibatch loss at step 6500: 0.613810\n",
      "Minibatch accuracy: 97.7%\n",
      "Validation accuracy: 97.0%\n",
      "Minibatch loss at step 7000: 0.712378\n",
      "Minibatch accuracy: 96.9%\n",
      "Validation accuracy: 97.2%\n",
      "Minibatch loss at step 7500: 0.569082\n",
      "Minibatch accuracy: 97.4%\n",
      "Validation accuracy: 97.3%\n",
      "Minibatch loss at step 8000: 0.343890\n",
      "Minibatch accuracy: 98.3%\n",
      "Validation accuracy: 97.5%\n",
      "Minibatch loss at step 8500: 0.432368\n",
      "Minibatch accuracy: 98.2%\n",
      "Validation accuracy: 97.6%\n",
      "Test accuracy: 97.6%\n",
      "Model saved in file: CNN_multi.ckpt\n"
     ]
    }
   ],
   "source": [
    "num_steps = 50000\n",
    "newAccval = 0.\n",
    "with tf.Session(graph=graph) as session:\n",
    "    tf.initialize_all_variables().run()\n",
    "    print('Initialized')\n",
    "    for step in range(num_steps):\n",
    "        offset = (step * batch_size) % (train_labels.shape[0] - batch_size)\n",
    "        batch_data = train_dataset[offset:(offset + batch_size), :, :, :]\n",
    "        batch_labels = train_labels[offset:(offset + batch_size), :]\n",
    "        feed_dict = {tf_train_dataset : batch_data, tf_train_labels : batch_labels}\n",
    "        _, l, predictions = session.run(\n",
    "          [optimizer, loss, train_prediction], feed_dict=feed_dict)\n",
    "        if (step % 500 == 0):\n",
    "            print('Minibatch loss at step %d: %f' % (step, l))\n",
    "            print('Minibatch accuracy: %.1f%%' % accuracy(predictions, batch_labels[:,:]))\n",
    "            oldAccval = newAccval\n",
    "            newAccval = accuracy(valid_prediction.eval(), valid_labels[:,:])\n",
    "            print('Validation accuracy: %.1f%%' % newAccval)\n",
    "            if newAccval-oldAccval <= 0.1 :\n",
    "                break\n",
    "    print('Test accuracy: %.1f%%' % accuracy(test_prediction.eval(), test_labels[:,:]))\n",
    "    # Save the variables to disk.\n",
    "    save_path = saver.save(session, \"multiDigitMNIST.ckpt\")\n",
    "    print(\"Model saved in file: %s\" % save_path)"
   ]
  },
  {
   "cell_type": "code",
   "execution_count": 7,
   "metadata": {
    "collapsed": false
   },
   "outputs": [
    {
     "name": "stdout",
     "output_type": "stream",
     "text": [
      "Model restored.\n",
      "Initialized\n",
      "[[ 9  6 10 10 10  2]\n",
      " [ 4  5 10 10 10  2]\n",
      " [ 9  9 10 10 10  2]\n",
      " ..., \n",
      " [ 2  4  1  9  1  5]\n",
      " [ 2  8  1  6  9  5]\n",
      " [ 6 10 10 10 10  1]]\n"
     ]
    }
   ],
   "source": [
    "############################################################\n",
    "#Now we need to test our trained model with a dataset \n",
    "#\n",
    "############################################################\n",
    "\n",
    "batch_size = 512\n",
    "patch_size = 4\n",
    "depth = 32\n",
    "num_hidden = 128\n",
    "\n",
    "\n",
    "graph = tf.Graph()\n",
    "\n",
    "with graph.as_default():\n",
    "\n",
    "  # Input data.\n",
    "  tf_train_dataset = tf.placeholder(tf.float32, shape=(batch_size, image_sizeY, image_sizeX, num_channels))\n",
    "  tf_train_labels = tf.placeholder(tf.int32, shape=(batch_size, 6))\n",
    "  tf_valid_dataset = tf.constant(valid_dataset)\n",
    "  tf_test_dataset = tf.constant(test_dataset)\n",
    "  #keep_prob = tf.placeholder(\"float\")\n",
    "\n",
    "  # Variables\n",
    "  w1 = tf.Variable(tf.truncated_normal([patch_size, patch_size, num_channels, depth], stddev=0.1))\n",
    "  b1 = tf.Variable(tf.zeros([depth]))\n",
    "  w2 = tf.Variable(tf.truncated_normal([patch_size, patch_size, depth * 1, depth * 2], stddev=0.1))\n",
    "  b2 = tf.Variable(tf.constant(1.0, shape=[depth * 2]))\n",
    "  w3 = tf.Variable(tf.truncated_normal([patch_size, patch_size, depth * 2, depth * 4], stddev=0.1))\n",
    "  b3 = tf.Variable(tf.constant(1.0, shape=[depth * 4]))\n",
    "  w4 = tf.Variable(tf.truncated_normal([patch_size, patch_size, depth * 4, depth * 8], stddev=0.1))\n",
    "  b4 = tf.Variable(tf.constant(1.0, shape=[depth * 8]))\n",
    "  #w5 = tf.Variable(tf.truncated_normal([patch_size, patch_size, depth * 8, depth * 16], stddev=0.1))\n",
    "  #b5 = tf.Variable(tf.constant(1.0, shape=[depth * 16]))\n",
    "  \n",
    "  #full-connected layers - 2 layers - \n",
    "  #w6 = tf.Variable(tf.truncated_normal([5 * depth * 16, num_hidden], stddev=0.1))\n",
    "  w6 = tf.Variable(tf.truncated_normal([2 * 9 * depth * 8, num_hidden], stddev=0.1))\n",
    "  b6 = tf.Variable(tf.constant(1.0, shape=[num_hidden]))\n",
    "\n",
    "\n",
    "  wC1 = tf.Variable(tf.truncated_normal([num_hidden, num_labels], stddev=0.1))\n",
    "  bC1 = tf.Variable(tf.constant(1.0, shape=[num_labels]))\n",
    "  wC2 = tf.Variable(tf.truncated_normal([num_hidden, num_labels], stddev=0.1))\n",
    "  bC2 = tf.Variable(tf.constant(1.0, shape=[num_labels]))\n",
    "  wC3 = tf.Variable(tf.truncated_normal([num_hidden, num_labels], stddev=0.1))\n",
    "  bC3 = tf.Variable(tf.constant(1.0, shape=[num_labels]))\n",
    "  wC4 = tf.Variable(tf.truncated_normal([num_hidden, num_labels], stddev=0.1))\n",
    "  bC4 = tf.Variable(tf.constant(1.0, shape=[num_labels]))\n",
    "  wC5 = tf.Variable(tf.truncated_normal([num_hidden, num_labels], stddev=0.1))\n",
    "  bC5 = tf.Variable(tf.constant(1.0, shape=[num_labels]))\n",
    "  wC6 = tf.Variable(tf.truncated_normal([num_hidden, num_labels], stddev=0.1))\n",
    "  bC6 = tf.Variable(tf.constant(1.0, shape=[num_labels]))\n",
    "  \n",
    "  # Model.\n",
    "  def model(data):\n",
    "    conv = tf.nn.conv2d(data, w1, [1, 1, 1, 1], padding='SAME')\n",
    "    hidden = tf.nn.relu(conv + b1)\n",
    "    maxOut = tf.nn.max_pool(hidden, [1, 2, 2, 1], [1, 2, 2, 1], 'SAME')\n",
    "    conv = tf.nn.conv2d(maxOut, w2, [1, 1, 1, 1], padding='SAME')\n",
    "    hidden = tf.nn.relu(conv + b2)\n",
    "    maxOut = tf.nn.max_pool(hidden, [1, 2, 2, 1], [1, 2, 2, 1], 'SAME')\n",
    "    conv = tf.nn.conv2d(maxOut, w3, [1, 1, 1, 1], padding='SAME')\n",
    "    hidden = tf.nn.relu(conv + b3)\n",
    "    maxOut = tf.nn.max_pool(hidden, [1, 2, 2, 1], [1, 2, 2, 1], 'SAME')\n",
    "    conv = tf.nn.conv2d(maxOut, w4, [1, 1, 1, 1], padding='SAME')\n",
    "    hidden = tf.nn.relu(conv + b4)\n",
    "    maxOut = tf.nn.max_pool(hidden, [1, 2, 2, 1], [1, 2, 2, 1], 'SAME')\n",
    "    #conv = tf.nn.conv2d(maxOut, w5, [1, 1, 1, 1], padding='SAME')\n",
    "    #hidden = tf.nn.relu(conv + b5)\n",
    "    #maxOut = tf.nn.max_pool(hidden, [1, 2, 2, 1], [1, 2, 2, 1], 'SAME')  \n",
    "    \n",
    "    #full-connected layers - 2 layers -     \n",
    "    shape = maxOut.get_shape().as_list()\n",
    "    reshape = tf.reshape(maxOut, [shape[0], shape[1] * shape[2] * shape[3]])\n",
    "    fc = tf.nn.relu(tf.matmul(reshape, w6) + b6)\n",
    "    logitsC1 = tf.matmul(tf.nn.dropout(fc, 1.0), wC1) + bC1\n",
    "    logitsC2 = tf.matmul(tf.nn.dropout(fc, 1.0), wC2) + bC2\n",
    "    logitsC3 = tf.matmul(tf.nn.dropout(fc, 1.0), wC3) + bC3\n",
    "    logitsC4 = tf.matmul(tf.nn.dropout(fc, 1.0), wC4) + bC4\n",
    "    logitsC5 = tf.matmul(tf.nn.dropout(fc, 1.0), wC5) + bC5\n",
    "    logitsC6 = tf.matmul(tf.nn.dropout(fc, 1.0), wC6) + bC6\n",
    "    logits = tf.pack([logitsC1, logitsC2, logitsC3, logitsC4, logitsC5, logitsC6])\n",
    "    return logits\n",
    "\n",
    "  # Training computation.\n",
    "  logits = model(tf_test_dataset)\n",
    "\n",
    "  predict = tf.pack([tf.nn.softmax(logits[0]),tf.nn.softmax(logits[1]),tf.nn.softmax(logits[2]),\\\n",
    "                         tf.nn.softmax(logits[3]),tf.nn.softmax(logits[4]),tf.nn.softmax(logits[5])])\n",
    "  test_prediction = tf.transpose(tf.argmax(predict, 2))\n",
    "  saver = tf.train.Saver()\n",
    "\n",
    "\n",
    "with tf.Session(graph=graph) as session:\n",
    "  saver.restore(session, \"CNN_multi.ckpt\")\n",
    "  print(\"Model restored.\")  \n",
    "  im_samples = 100\n",
    "  print('Initialized')\n",
    "  test_prediction = session.run(test_prediction, feed_dict={tf_test_dataset : test_dataset,})\n",
    "  print(test_prediction)"
   ]
  },
  {
   "cell_type": "code",
   "execution_count": 41,
   "metadata": {
    "collapsed": false
   },
   "outputs": [
    {
     "data": {
      "image/png": "[encoded data removed]",
      "text/plain": [
       "<matplotlib.figure.Figure at 0x7f2970f2f7d0>"
      ]
     },
     "metadata": {},
     "output_type": "display_data"
    }
   ],
   "source": [
    "from PIL import Image\n",
    "import os\n",
    "import sys\n",
    "%matplotlib inline\n",
    "\n",
    "test_labels = test_labels.astype(int)\n",
    "numOfDig = 5\n",
    "numCol = 3\n",
    "plt.rcParams['figure.figsize'] = (20.0, 20.0)\n",
    "f, ax = plt.subplots(nrows=1, ncols=numCol)\n",
    "\n",
    "im_samples = []\n",
    "    \n",
    "for i, j in enumerate(np.sort(np.random.randint(0, test_labels.shape[0], size=numCol))):\n",
    "    im = np.asarray(test_dataset[j,:,:,0])\n",
    "    house_num = 0\n",
    "    preHouseNum = 0\n",
    "    for k in np.arange(test_labels[j,numOfDig]):\n",
    "        house_num += test_labels[j,k]*(pow(10,test_labels[j,numOfDig]-k-1))\n",
    "    for k in np.arange(test_prediction[j,numOfDig]):\n",
    "        preHouseNum += test_prediction[j,k]*(pow(10,test_prediction[j,numOfDig]-k-1))\n",
    "    #print(test_labels[j], test_prediction[j])\n",
    "    im_samples.extend([j])\n",
    "    ax[i].axis('off')\n",
    "    ax[i].set_title(('predicted: '+str(house_num),'real: '+str(preHouseNum)), loc='center')\n",
    "    ax[i].imshow(im)"
   ]
  },
  {
   "cell_type": "code",
   "execution_count": null,
   "metadata": {
    "collapsed": true
   },
   "outputs": [],
   "source": []
  },
  {
   "cell_type": "code",
   "execution_count": null,
   "metadata": {
    "collapsed": true
   },
   "outputs": [],
   "source": []
  }
 ],
 "metadata": {
  "colab": {
   "default_view": {},
   "name": "4_convolutions.ipynb",
   "provenance": [],
   "version": "0.3.2",
   "views": {}
  },
  "kernelspec": {
   "display_name": "Python 2",
   "language": "python",
   "name": "python2"
  },
  "language_info": {
   "codemirror_mode": {
    "name": "ipython",
    "version": 2
   },
   "file_extension": ".py",
   "mimetype": "text/x-python",
   "name": "python",
   "nbconvert_exporter": "python",
   "pygments_lexer": "ipython2",
   "version": "2.7.6"
  }
 },
 "nbformat": 4,
 "nbformat_minor": 0
}
